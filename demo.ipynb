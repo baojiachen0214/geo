{
 "cells": [
  {
   "cell_type": "markdown",
   "source": [
    "# 全球行政区划信息绘制示例\n",
    "该文件仅为代码示例，详细的讲解请查阅"
   ],
   "metadata": {
    "collapsed": false
   },
   "id": "55cd9a7577f63f74"
  },
  {
   "cell_type": "code",
   "execution_count": null,
   "outputs": [],
   "source": [
    "import geo\n",
    "import pandas as pd\n",
    "df = pd.read_excel('./data.xlsx')\n",
    "df"
   ],
   "metadata": {
    "collapsed": false
   },
   "id": "9cef9d43d06a9115"
  },
  {
   "cell_type": "code",
   "execution_count": null,
   "outputs": [],
   "source": [
    "from geo import *\n",
    "[matched_df, unmatched_df] = match_data(find_style='en',dataframe=df,column_country='Name',column_data='data')\n",
    "matched_df"
   ],
   "metadata": {
    "collapsed": false
   },
   "id": "f97e6fc350e1514c"
  },
  {
   "cell_type": "code",
   "execution_count": null,
   "outputs": [],
   "source": [
    "matched_df.loc[len(matched_df)] = {'name': '英国','data': 14}\n",
    "matched_df"
   ],
   "metadata": {
    "collapsed": false
   },
   "id": "39eca79474e9546f"
  },
  {
   "cell_type": "code",
   "execution_count": null,
   "outputs": [],
   "source": [
    "matched_df['name'].tolist()"
   ],
   "metadata": {
    "collapsed": false
   },
   "id": "e173a01e27aae9b3"
  },
  {
   "cell_type": "code",
   "execution_count": null,
   "outputs": [],
   "source": [
    "key_list = matched_df['name'].drop_duplicates().tolist()\n",
    "key_list"
   ],
   "metadata": {
    "collapsed": false
   },
   "id": "4718dee344ceb1fc"
  },
  {
   "cell_type": "code",
   "execution_count": null,
   "outputs": [],
   "source": [
    "[stack, popped_list, unmatched_list] = get_gray_list_chinese(list)"
   ],
   "metadata": {
    "collapsed": false
   },
   "id": "f0304b24e1960329"
  },
  {
   "cell_type": "code",
   "execution_count": null,
   "outputs": [],
   "source": [
    "stack"
   ],
   "metadata": {
    "collapsed": false
   },
   "id": "881f2e02e1dc1c1a"
  },
  {
   "cell_type": "code",
   "execution_count": null,
   "outputs": [],
   "source": [
    "popped_list"
   ],
   "metadata": {
    "collapsed": false
   },
   "id": "6d07de0feb0cc811"
  },
  {
   "cell_type": "code",
   "execution_count": null,
   "outputs": [],
   "source": [
    "unmatched_list"
   ],
   "metadata": {
    "collapsed": false
   },
   "id": "d42fe187875b4816"
  },
  {
   "cell_type": "code",
   "execution_count": null,
   "outputs": [],
   "source": [
    "plot_geo(dataframe=matched_df,\n",
    "        gray_countries=stack,\n",
    "        column_data= \"data\")"
   ],
   "metadata": {
    "collapsed": false
   },
   "id": "288c3bf0ea7f0ede"
  }
 ],
 "metadata": {
  "kernelspec": {
   "display_name": "Python 3",
   "language": "python",
   "name": "python3"
  },
  "language_info": {
   "codemirror_mode": {
    "name": "ipython",
    "version": 2
   },
   "file_extension": ".py",
   "mimetype": "text/x-python",
   "name": "python",
   "nbconvert_exporter": "python",
   "pygments_lexer": "ipython2",
   "version": "2.7.6"
  }
 },
 "nbformat": 4,
 "nbformat_minor": 5
}
